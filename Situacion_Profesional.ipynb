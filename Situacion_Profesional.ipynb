{
  "nbformat": 4,
  "nbformat_minor": 0,
  "metadata": {
    "colab": {
      "name": "Situacion_Profesional.ipynb",
      "provenance": [],
      "authorship_tag": "ABX9TyNTBiGW8BsZuQLFDryXJsA4",
      "include_colab_link": true
    },
    "kernelspec": {
      "name": "python3",
      "display_name": "Python 3"
    },
    "language_info": {
      "name": "python"
    }
  },
  "cells": [
    {
      "cell_type": "markdown",
      "metadata": {
        "id": "view-in-github",
        "colab_type": "text"
      },
      "source": [
        "<a href=\"https://colab.research.google.com/github/mapeospba/mapeos_3/blob/main/Situacion_Profesional.ipynb\" target=\"_parent\"><img src=\"https://colab.research.google.com/assets/colab-badge.svg\" alt=\"Open In Colab\"/></a>"
      ]
    },
    {
      "cell_type": "code",
      "source": [
        "import random"
      ],
      "metadata": {
        "id": "Ee98HlbqFBG5"
      },
      "execution_count": null,
      "outputs": []
    },
    {
      "cell_type": "code",
      "execution_count": null,
      "metadata": {
        "id": "x0g_Sb3g0eoj"
      },
      "outputs": [],
      "source": [
        "#def sumar_funcion (numero1,numero2):\n",
        "  #print (numero1+numero2)\n",
        "\n",
        "#def multiplicacion_funcion (numero1,numero2):\n",
        "  #print (numero1*numero2)\n",
        "\n",
        "\n",
        "\n",
        "\n",
        "#multiplicacion_funcion(numero1,numero2)\n",
        "\n",
        "#while True: \n",
        "  #respuesta=input(\"selecciona una opcion \\n 1.sumar \\n 2.multiplicar\")\n",
        "\n",
        "  #numero1 = int(input(\"Seleccioná el primer argumento: \"))\n",
        "  #numero2 = int(input(\"Seleccioná el segundo argumento: \"))\n",
        "\n",
        "  #if respuesta == 1: \n",
        "    #sumar_funcion(numero1,numero2)\n",
        "  #if respuesta <= 4:\n",
        "    #numero\n",
        "    #multiplicacion_funciona() \n",
        "\n",
        "\n",
        "\n"
      ]
    },
    {
      "cell_type": "code",
      "source": [
        "#Punto 1\n",
        "\n",
        "def presentacion() :\n",
        "    print (\"Hola bienvenido a esta aplicación. En la misma podrás realizar diversas operaciones matemáticas\")\n",
        "presentacion()"
      ],
      "metadata": {
        "id": "ri4Tr-A6GmUd"
      },
      "execution_count": null,
      "outputs": []
    },
    {
      "cell_type": "code",
      "source": [
        "#Punto 2\n",
        "\n",
        "def ing2i(a: int , b: int) :\n",
        "    print(a)\n",
        "    print(b)\n",
        "\n",
        "#a = input((\"Elegí el primer número: \"))\n",
        "#b = input((\"Elegí el segundo número: \"))\n",
        "#ing2i(a,b)"
      ],
      "metadata": {
        "colab": {
          "base_uri": "https://localhost:8080/"
        },
        "id": "7TRz6hldJOeU",
        "outputId": "00c2a9ed-f3f4-4268-e787-8b2ea03ed9a2"
      },
      "execution_count": null,
      "outputs": [
        {
          "output_type": "stream",
          "name": "stdout",
          "text": [
            "Elegí el primer número: 3\n",
            "Elegí el segundo número: 6\n",
            "3 6\n"
          ]
        }
      ]
    },
    {
      "cell_type": "code",
      "source": [
        "#Punto 3\n",
        "\n",
        "def ing2s(a: str , b: str) :\n",
        "    print(c)\n",
        "    print(d)\n",
        "\n",
        "# c = input((\"Elegí la primer palabra: \"))\n",
        "# d = input((\"Elegí la segunda palabra: \"))\n",
        "# ing2s(c,d)"
      ],
      "metadata": {
        "colab": {
          "base_uri": "https://localhost:8080/"
        },
        "id": "jLkei1jLKKI-",
        "outputId": "9f415ac9-5801-4396-d915-cb62f3f55336"
      },
      "execution_count": null,
      "outputs": [
        {
          "output_type": "stream",
          "name": "stdout",
          "text": [
            "Elegí la primer palabra: Asd\n",
            "Elegí la segunda palabra: asddd\n",
            "Asd\n",
            "asddd\n"
          ]
        }
      ]
    },
    {
      "cell_type": "code",
      "source": [
        "#Punto 4\n",
        "\n",
        "def suma(a: int, b: int) :\n",
        "    SUM = a + b\n",
        "    return SUM\n",
        "\n",
        "# a = float(input((\"Elegí el primer número: \")))\n",
        "# b = float(input((\"Elegí el segundo número: \")))\n",
        "# suma (a,b)"
      ],
      "metadata": {
        "colab": {
          "base_uri": "https://localhost:8080/"
        },
        "id": "EffIUpf9K9-_",
        "outputId": "ae1ff3d4-6169-4a7e-bd38-96a81105bfc4"
      },
      "execution_count": null,
      "outputs": [
        {
          "name": "stdout",
          "output_type": "stream",
          "text": [
            "Elegí el primer número: 5\n",
            "Elegí el segundo número: 5\n"
          ]
        }
      ]
    },
    {
      "cell_type": "code",
      "source": [
        "#Punto 5\n",
        "\n",
        "def resta(a: int, b: int) :\n",
        "    RES = a - b\n",
        "    return RES\n",
        "\n",
        "# a = float(input((\"Elegí el primer número: \")))\n",
        "# b = float(input((\"Elegí el segundo número: \")))\n",
        "# resta (a,b)"
      ],
      "metadata": {
        "colab": {
          "base_uri": "https://localhost:8080/"
        },
        "id": "MvXz27XiMnWJ",
        "outputId": "b314e3dd-315f-4c4b-f2ba-b110051293d8"
      },
      "execution_count": null,
      "outputs": [
        {
          "name": "stdout",
          "output_type": "stream",
          "text": [
            "Elegí el primer número: 2.5\n",
            "Elegí el segundo número: 4\n"
          ]
        },
        {
          "output_type": "execute_result",
          "data": {
            "text/plain": [
              "-1.5"
            ]
          },
          "metadata": {},
          "execution_count": 43
        }
      ]
    },
    {
      "cell_type": "code",
      "source": [
        "#Punto 6\n",
        "\n",
        "def producto(a: int, b: int) :\n",
        "    PROD = a * b\n",
        "    return PROD    \n",
        "\n",
        "# a = float(input((\"Elegí el primer número: \")))\n",
        "# b = float(input((\"Elegí el segundo número: \")))\n",
        "# producto (a,b)"
      ],
      "metadata": {
        "id": "DheIuTN_Mti2"
      },
      "execution_count": null,
      "outputs": []
    },
    {
      "cell_type": "code",
      "source": [
        "#Punto 7\n",
        "\n",
        "def cociente(a: int, b: int) :\n",
        "    COC = a / b\n",
        "    return COC\n",
        "    \n",
        "# a = float(input((\"Elegí el primer número: \")))\n",
        "# b = float(input((\"Elegí el segundo número: \")))\n",
        "# cociente (a,b)"
      ],
      "metadata": {
        "colab": {
          "base_uri": "https://localhost:8080/"
        },
        "id": "hsLffPVxPiQo",
        "outputId": "de322ca2-ccf1-46a1-803f-2307525155f8"
      },
      "execution_count": null,
      "outputs": [
        {
          "name": "stdout",
          "output_type": "stream",
          "text": [
            "Elegí el primer número: 1\n",
            "Elegí el segundo número: 5\n"
          ]
        },
        {
          "output_type": "execute_result",
          "data": {
            "text/plain": [
              "0.2"
            ]
          },
          "metadata": {},
          "execution_count": 41
        }
      ]
    },
    {
      "cell_type": "code",
      "source": [
        "#Punto 8\n",
        "\n",
        "def modulo(a: int, b: int) :\n",
        "    MOD = a % b\n",
        "    return MOD\n",
        "    \n",
        "# a = float(input((\"Elegí el primer número: \")))\n",
        "# b = float(input((\"Elegí el segundo número: \")))\n",
        "# modulo(a,b)"
      ],
      "metadata": {
        "colab": {
          "base_uri": "https://localhost:8080/"
        },
        "id": "orWQcRW4qfmt",
        "outputId": "9b46c03f-10c5-488a-be2f-741ea6b9dcab"
      },
      "execution_count": null,
      "outputs": [
        {
          "name": "stdout",
          "output_type": "stream",
          "text": [
            "Elegí el primer número: 16\n",
            "Elegí el segundo número: 3\n"
          ]
        },
        {
          "output_type": "execute_result",
          "data": {
            "text/plain": [
              "1.0"
            ]
          },
          "metadata": {},
          "execution_count": 3
        }
      ]
    },
    {
      "cell_type": "code",
      "source": [
        "#Punto 9\n",
        "\n",
        "def potencia(a: int, b: int) :\n",
        "    POW = a ** b\n",
        "    return POW\n",
        "    \n",
        "# a = float(input((\"Elegí el primer número: \")))\n",
        "# b = float(input((\"Elegí el segundo número: \")))\n",
        "# potencia (a,b)"
      ],
      "metadata": {
        "colab": {
          "base_uri": "https://localhost:8080/"
        },
        "id": "LfKgFQwQqwe6",
        "outputId": "469150fb-fc30-4e95-8503-0d26fb727acb"
      },
      "execution_count": null,
      "outputs": [
        {
          "name": "stdout",
          "output_type": "stream",
          "text": [
            "Elegí el primer número: 2\n",
            "Elegí el segundo número: 4\n"
          ]
        },
        {
          "output_type": "execute_result",
          "data": {
            "text/plain": [
              "16.0"
            ]
          },
          "metadata": {},
          "execution_count": 4
        }
      ]
    },
    {
      "cell_type": "code",
      "source": [
        "#Punto 10\n",
        "\n",
        "def radicacion(a: int, b: int) :\n",
        "  RAD = a ** (1/b)  \n",
        "  return RAD\n",
        "\n",
        "# a = float(input((\"Elegí el primer número: \")))\n",
        "# b = float(input((\"Elegí el segundo número: \")))\n",
        "# radicacion (a,b)"
      ],
      "metadata": {
        "colab": {
          "base_uri": "https://localhost:8080/"
        },
        "id": "16EFYVl7rqat",
        "outputId": "f7f33cb8-e6c0-49bf-d0a1-2ea8c9df7c59"
      },
      "execution_count": null,
      "outputs": [
        {
          "name": "stdout",
          "output_type": "stream",
          "text": [
            "Elegí el primer número: 25\n",
            "Elegí el segundo número: 2\n"
          ]
        },
        {
          "output_type": "execute_result",
          "data": {
            "text/plain": [
              "5.0"
            ]
          },
          "metadata": {},
          "execution_count": 6
        }
      ]
    },
    {
      "cell_type": "code",
      "source": [
        "#Punto 11\n",
        "\n",
        "def producto(a: int, b: int) :\n",
        "    PROD = a * b\n",
        "    return PROD \n",
        "\n",
        "def suma(a: int, b: int) :\n",
        "    SUM = a + b\n",
        "    return SUM   \n",
        "\n",
        "def p1(a: int, b: int, c: int) :\n",
        "    RP1 = producto(a,b)\n",
        "    RP1 = suma(RP1,c)\n",
        "    return RP1\n",
        "\n",
        "a = float(input((\"Elegí el primer número: \")))\n",
        "b = float(input((\"Elegí el segundo número: \")))\n",
        "c = float(input((\"Elegí el tercer número: \")))\n",
        "p1 (a,b,c)"
      ],
      "metadata": {
        "colab": {
          "base_uri": "https://localhost:8080/"
        },
        "id": "uzxAnxubtumu",
        "outputId": "a50572ef-b7cb-485b-c857-bad8f93f9a64"
      },
      "execution_count": null,
      "outputs": [
        {
          "name": "stdout",
          "output_type": "stream",
          "text": [
            "Elegí el primer número: 3\n",
            "Elegí el segundo número: 3\n",
            "Elegí el tercer número: 2\n"
          ]
        },
        {
          "output_type": "execute_result",
          "data": {
            "text/plain": [
              "11.0"
            ]
          },
          "metadata": {},
          "execution_count": 18
        }
      ]
    },
    {
      "cell_type": "code",
      "source": [
        "#Punto 12\n",
        "\n",
        "def producto(a: int, b: int) :\n",
        "    PROD = a * b\n",
        "    return PROD \n",
        "\n",
        "def suma(a: int, b: int) :\n",
        "    SUM = a + b\n",
        "    return SUM   \n",
        "\n",
        "\n",
        "def p2(a: int, b: int, c: int) :\n",
        "    RP2 = suma(a,b)\n",
        "    RP2 = producto(RP2,c)\n",
        "    return RP2\n",
        "\n",
        "a = float(input((\"Elegí el primer número: \")))\n",
        "b = float(input((\"Elegí el segundo número: \")))\n",
        "c = float(input((\"Elegí el tercer número: \")))\n",
        "p2 (a,b,c)"
      ],
      "metadata": {
        "colab": {
          "base_uri": "https://localhost:8080/"
        },
        "id": "LX0sup5XtdQL",
        "outputId": "6956bde0-348d-4325-eed1-0e8bf65587fc"
      },
      "execution_count": null,
      "outputs": [
        {
          "name": "stdout",
          "output_type": "stream",
          "text": [
            "Elegí el primer número: 5\n",
            "Elegí el segundo número: 5\n",
            "Elegí el tercer número: 2\n"
          ]
        },
        {
          "output_type": "execute_result",
          "data": {
            "text/plain": [
              "20.0"
            ]
          },
          "metadata": {},
          "execution_count": 20
        }
      ]
    },
    {
      "cell_type": "code",
      "source": [
        "#Punto 13\n",
        "\n",
        "def producto(a: int, b: int) :\n",
        "    PROD = a * b\n",
        "    return PROD \n",
        "\n",
        "def resta(a: int, b: int) :\n",
        "    RES = a - b\n",
        "    return RES\n",
        "\n",
        "def p3(a: int, b: int, c: int) :\n",
        "    RP3 = resta(a,b)\n",
        "    RP3 = producto(RP3,c)\n",
        "    return RP3\n",
        "\n",
        "a = float(input((\"Elegí el primer número: \")))\n",
        "b = float(input((\"Elegí el segundo número: \")))\n",
        "c = float(input((\"Elegí el tercer número: \")))\n",
        "p3 (a,b,c)"
      ],
      "metadata": {
        "colab": {
          "base_uri": "https://localhost:8080/"
        },
        "id": "MYjSq9uV6luX",
        "outputId": "b77b94a6-4fac-4a59-934c-eb3ded470104"
      },
      "execution_count": null,
      "outputs": [
        {
          "name": "stdout",
          "output_type": "stream",
          "text": [
            "Elegí el primer número: 5\n",
            "Elegí el segundo número: 2\n",
            "Elegí el tercer número: 2\n"
          ]
        },
        {
          "output_type": "execute_result",
          "data": {
            "text/plain": [
              "6.0"
            ]
          },
          "metadata": {},
          "execution_count": 23
        }
      ]
    },
    {
      "cell_type": "code",
      "source": [
        "#Punta 14\n",
        "\n",
        "lista = []\n",
        "def genrnd(a,b) :\n",
        "    for i in range (1,51):\n",
        "      num = random.randint(a,b)\n",
        "      lista.append(num)\n",
        "    \n",
        "\n",
        "# a = float(input((\"Elegí el primer número de la lista de Aleatorios: \")))\n",
        "# b = float(input((\"Elegí el segundo número de la lista de Aleatorios: \")))\n",
        "genrnd(100,300)\n",
        "print(lista)\n",
        "\n",
        "# lista_23 =[]\n",
        "\n",
        "# def genrnd_suma(lista):\n",
        "#   for a in range(10):\n",
        "#     num = random.randint(1,50)\n",
        "#     num1 = random.randint(1,50)\n",
        "#     lista_2 = lista[num]+lista[num1]\n",
        "#     lista_23.append(lista_2)\n",
        "#   print(lista_23)\n",
        "\n",
        "# genrnd(1,100)\n",
        "# genrnd_suma(lista)"
      ],
      "metadata": {
        "colab": {
          "base_uri": "https://localhost:8080/"
        },
        "id": "ks0lx_Ez6li_",
        "outputId": "be0abf8a-1b97-4bb0-bbf2-896e6c6d12e3"
      },
      "execution_count": null,
      "outputs": [
        {
          "output_type": "stream",
          "name": "stdout",
          "text": [
            "[]\n"
          ]
        }
      ]
    },
    {
      "cell_type": "code",
      "source": [
        "#Punto 14#\n",
        "\n",
        "lista = []\n",
        "def genrnd(a,b):\n",
        "     for i in range (1,51):\n",
        "       num = random.randint(a,b)\n",
        "       lista.append(num)\n",
        "    \n",
        "genrnd(a,b)\n",
        "print(lista)\n",
        "\n",
        "# lista_1 =[]\n",
        "\n",
        "# def genrnd_suma(lista):\n",
        "#   for a in range(10):\n",
        "#     num = random.randint(1,50)\n",
        "#     num1 = random.randint(1,50)\n",
        "#     lista_2 = lista[num]+lista[num1]\n",
        "#     lista_1.append(lista_2)\n",
        "#   print(lista_1)\n",
        "\n",
        "# genrnd(1,100)\n",
        "# genrnd_suma(lista)"
      ],
      "metadata": {
        "colab": {
          "base_uri": "https://localhost:8080/",
          "height": 235
        },
        "id": "irIggm5R6uXN",
        "outputId": "789f387f-0975-416c-9373-b1cc11c155ba"
      },
      "execution_count": null,
      "outputs": [
        {
          "output_type": "error",
          "ename": "NameError",
          "evalue": "ignored",
          "traceback": [
            "\u001b[0;31m---------------------------------------------------------------------------\u001b[0m",
            "\u001b[0;31mNameError\u001b[0m                                 Traceback (most recent call last)",
            "\u001b[0;32m<ipython-input-8-ec787d5d1027>\u001b[0m in \u001b[0;36m<module>\u001b[0;34m()\u001b[0m\n\u001b[1;32m      7\u001b[0m        \u001b[0mlista\u001b[0m\u001b[0;34m.\u001b[0m\u001b[0mappend\u001b[0m\u001b[0;34m(\u001b[0m\u001b[0mnum\u001b[0m\u001b[0;34m)\u001b[0m\u001b[0;34m\u001b[0m\u001b[0;34m\u001b[0m\u001b[0m\n\u001b[1;32m      8\u001b[0m \u001b[0;34m\u001b[0m\u001b[0m\n\u001b[0;32m----> 9\u001b[0;31m \u001b[0mgenrnd\u001b[0m\u001b[0;34m(\u001b[0m\u001b[0ma\u001b[0m\u001b[0;34m,\u001b[0m\u001b[0mb\u001b[0m\u001b[0;34m)\u001b[0m\u001b[0;34m\u001b[0m\u001b[0;34m\u001b[0m\u001b[0m\n\u001b[0m\u001b[1;32m     10\u001b[0m \u001b[0mprint\u001b[0m\u001b[0;34m(\u001b[0m\u001b[0mlista\u001b[0m\u001b[0;34m)\u001b[0m\u001b[0;34m\u001b[0m\u001b[0;34m\u001b[0m\u001b[0m\n\u001b[1;32m     11\u001b[0m \u001b[0;34m\u001b[0m\u001b[0m\n",
            "\u001b[0;31mNameError\u001b[0m: name 'a' is not defined"
          ]
        }
      ]
    }
  ]
}